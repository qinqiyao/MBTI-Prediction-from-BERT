{
 "cells": [
  {
   "cell_type": "code",
   "execution_count": 2,
   "id": "7f862404-d259-43b4-882d-53ebee190794",
   "metadata": {},
   "outputs": [
    {
     "name": "stdout",
     "output_type": "stream",
     "text": [
      "Path to dataset files: /nas/longleaf/home/longfeiz/.cache/kagglehub/datasets/datasnaek/mbti-type/versions/1\n",
      "   type                                              posts\n",
      "0  INFJ  'http://www.youtube.com/watch?v=qsXHcwe3krw|||...\n",
      "1  ENTP  'I'm finding the lack of me in these posts ver...\n",
      "2  INTP  'Good one  _____   https://www.youtube.com/wat...\n",
      "3  INTJ  'Dear INTP,   I enjoyed our conversation the o...\n",
      "4  ENTJ  'You're fired.|||That's another silly misconce...\n"
     ]
    }
   ],
   "source": [
    "import kagglehub\n",
    "import pandas as pd\n",
    "import os\n",
    "import matplotlib.pyplot as plt\n",
    "\n",
    "path = kagglehub.dataset_download(\"datasnaek/mbti-type\")\n",
    "\n",
    "# Check the downloaded dataset path\n",
    "print(\"Path to dataset files:\", path)\n",
    "\n",
    "# Assuming the dataset contains a CSV file, find and read it\n",
    "for file in os.listdir(path):\n",
    "    if file.endswith(\".csv\"):\n",
    "        dataset_path = os.path.join(path, file)\n",
    "        break\n",
    "else:\n",
    "    raise FileNotFoundError(\"No CSV file found in the downloaded dataset.\")\n",
    "\n",
    "# Load the dataset\n",
    "df = pd.read_csv(dataset_path)\n",
    "\n",
    "# Display the first few rows\n",
    "print(df.head())\n",
    "\n",
    "\n",
    "# In[5]:\n",
    "\n",
    "\n",
    "dimensions = df.shape\n",
    "dimensions\n",
    "\n",
    "\n",
    "\n",
    "\n",
    "# In[6]:\n",
    "\n",
    "\n",
    "import pandas as pd\n",
    "\n",
    "# Preprocess the MBTI labels (convert to numerical encoding)\n",
    "from sklearn.preprocessing import LabelEncoder\n",
    "label_encoder = LabelEncoder()\n",
    "df[\"label_mbti\"] = label_encoder.fit_transform(df[\"type\"])\n",
    "\n",
    "labels = df[\"label_mbti\"].tolist()\n",
    "num_classes = len(label_encoder.classes_)\n",
    "num_classes\n",
    "\n",
    "\n",
    "\n",
    "# In[8]:\n",
    "\n",
    "\n",
    "import string\n",
    "import re\n",
    "\n",
    "def clean_text(text):\n",
    "    regex = re.compile('[%s]' % re.escape('|'))\n",
    "    text = regex.sub(\" \", text)\n",
    "    words = str(text).split()\n",
    "    words = [i.lower() + \" \" for i in words]\n",
    "    words = [i for i in words if not \"http\" in i]\n",
    "    words = \" \".join(words)\n",
    "    words = words.translate(words.maketrans('', '', string.punctuation))\n",
    "    return words\n",
    "\n",
    "\n",
    "# In[9]:\n",
    "\n",
    "\n",
    "df[\"cleaned_text\"] = df[\"posts\"].apply(clean_text)\n",
    "\n",
    "\n",
    "\n",
    "\n",
    "\n",
    "# In[10]:\n",
    "\n",
    "\n",
    "texts = df[\"cleaned_text\"].tolist()\n",
    "max(len(text) for text in texts)\n",
    "\n",
    "\n",
    "# In[11]:\n",
    "\n",
    "\n",
    "from transformers import BertTokenizer\n",
    "\n",
    "# Load pre-trained tokenizer\n",
    "tokenizer = BertTokenizer.from_pretrained(\"bert-base-uncased\")"
   ]
  },
  {
   "cell_type": "code",
   "execution_count": 4,
   "id": "4be1e098",
   "metadata": {},
   "outputs": [
    {
     "name": "stdout",
     "output_type": "stream",
     "text": [
      "Num GPUs Available:  1\n"
     ]
    }
   ],
   "source": [
    "import tensorflow as tf\n",
    "print(\"Num GPUs Available: \", len(tf.config.list_physical_devices('GPU')))\n",
    "from transformers import TFBertModel, BertTokenizer\n",
    "from transformers import BertConfig\n",
    "# Load pre-trained BERT model and tokenizer"
   ]
  },
  {
   "cell_type": "code",
   "execution_count": 5,
   "id": "9b9f29b3",
   "metadata": {},
   "outputs": [
    {
     "name": "stderr",
     "output_type": "stream",
     "text": [
      "I0000 00:00:1733260154.929804  836562 gpu_device.cc:2022] Created device /job:localhost/replica:0/task:0/device:GPU:0 with 38487 MB memory:  -> device: 0, name: NVIDIA A100-PCIE-40GB, pci bus id: 0000:81:00.0, compute capability: 8.0\n",
      "Some weights of the PyTorch model were not used when initializing the TF 2.0 model TFBertModel: ['cls.seq_relationship.bias', 'cls.predictions.transform.dense.weight', 'cls.predictions.transform.LayerNorm.weight', 'cls.predictions.transform.dense.bias', 'cls.predictions.transform.LayerNorm.bias', 'cls.seq_relationship.weight', 'cls.predictions.bias']\n",
      "- This IS expected if you are initializing TFBertModel from a PyTorch model trained on another task or with another architecture (e.g. initializing a TFBertForSequenceClassification model from a BertForPreTraining model).\n",
      "- This IS NOT expected if you are initializing TFBertModel from a PyTorch model that you expect to be exactly identical (e.g. initializing a TFBertForSequenceClassification model from a BertForSequenceClassification model).\n",
      "All the weights of TFBertModel were initialized from the PyTorch model.\n",
      "If your task is similar to the task the model of the checkpoint was trained on, you can already use TFBertModel for predictions without further training.\n"
     ]
    },
    {
     "name": "stdout",
     "output_type": "stream",
     "text": [
      "Model: \"model\"\n",
      "__________________________________________________________________________________________________\n",
      " Layer (type)                Output Shape                 Param #   Connected to                  \n",
      "==================================================================================================\n",
      " input_ids (InputLayer)      [(None, 512)]                0         []                            \n",
      "                                                                                                  \n",
      " attention_mask (InputLayer  [(None, 512)]                0         []                            \n",
      " )                                                                                                \n",
      "                                                                                                  \n",
      " bert_layer (BertLayer)      (None, 768)                  1094822   ['input_ids[0][0]',           \n",
      "                                                          40         'attention_mask[0][0]']      \n",
      "                                                                                                  \n",
      " dense (Dense)               (None, 16)                   12304     ['bert_layer[0][0]']          \n",
      "                                                                                                  \n",
      "==================================================================================================\n",
      "Total params: 109494544 (417.69 MB)\n",
      "Trainable params: 109494544 (417.69 MB)\n",
      "Non-trainable params: 0 (0.00 Byte)\n",
      "__________________________________________________________________________________________________\n"
     ]
    }
   ],
   "source": [
    "import tensorflow as tf\n",
    "from transformers import BertConfig, TFBertModel\n",
    "tf.keras.backend.clear_session()\n",
    "# Define BERT configuration and model\n",
    "# config = BertConfig.from_pretrained(\"bert-base-uncased\", hidden_dropout_prob=0.15, attention_probs_dropout_prob=0.1)\n",
    "bert_model = TFBertModel.from_pretrained(\"bert-base-uncased\")#, config=config)\n",
    "bert_model.trainable = True\n",
    "# Define max sequence length\n",
    "max_length = 512\n",
    "\n",
    "# Define a custom Keras layer for the BERT model\n",
    "class BertLayer(tf.keras.layers.Layer):\n",
    "    def __init__(self, bert_model):\n",
    "        super(BertLayer, self).__init__()\n",
    "        self.bert_model = bert_model\n",
    "\n",
    "    def call(self, inputs):\n",
    "        input_ids, attention_mask = inputs\n",
    "        outputs = self.bert_model(input_ids=input_ids, attention_mask=attention_mask)\n",
    "        return outputs.pooler_output  # Return only the pooler_output as a tensor\n",
    "\n",
    "# Define input layers\n",
    "input_ids = tf.keras.Input(shape=(max_length,), dtype=tf.int32, name=\"input_ids\")\n",
    "attention_mask = tf.keras.Input(shape=(max_length,), dtype=tf.int32, name=\"attention_mask\")\n",
    "\n",
    "# Pass inputs through the custom BERT layer\n",
    "bert_output = BertLayer(bert_model)([input_ids, attention_mask])\n",
    "\n",
    "# Add classification layers\n",
    "# dense = tf.keras.layers.Dense(32, activation=\"relu\")(bert_output)\n",
    "output = tf.keras.layers.Dense(16, activation=\"softmax\")(bert_output)  # Assuming 16 MBTI classes\n",
    "\n",
    "# Create the full model\n",
    "model = tf.keras.Model(inputs=[input_ids, attention_mask], outputs=output)\n",
    "\n",
    "model.compile(\n",
    "    optimizer=tf.keras.optimizers.Adam(learning_rate=1e-5),\n",
    "    loss=\"categorical_crossentropy\",  # Apply Focal Loss\n",
    "    metrics=[\"accuracy\"]\n",
    ")\n",
    "\n",
    "# Display the model summary\n",
    "model.summary()"
   ]
  },
  {
   "cell_type": "code",
   "execution_count": 6,
   "id": "a93d6bbf",
   "metadata": {},
   "outputs": [],
   "source": [
    "from sklearn.model_selection import train_test_split\n",
    "from sklearn.preprocessing import LabelEncoder\n",
    "from tensorflow.keras.utils import to_categorical\n",
    "import numpy as np\n",
    "\n",
    "# Split the data into train and validation sets\n",
    "X_train_texts, X_val_texts, y_train, y_val = train_test_split(\n",
    "    df[\"cleaned_text\"].values,\n",
    "    df[\"type\"].values,\n",
    "    test_size=0.2,\n",
    "    random_state=42\n",
    ")\n",
    "\n",
    "# Load tokenizer and model\n",
    "tokenizer = BertTokenizer.from_pretrained(\"bert-base-uncased\")\n",
    "\n",
    "# Preprocess the data\n",
    "def preprocess(texts, tokenizer):\n",
    "    return tokenizer(\n",
    "        list(texts),\n",
    "        max_length=512,\n",
    "        truncation=True,\n",
    "        padding=\"max_length\",\n",
    "        return_tensors=\"tf\"\n",
    "    )\n",
    "\n",
    "# Tokenize train and validation data\n",
    "train_encodings = preprocess(X_train_texts, tokenizer)\n",
    "val_encodings = preprocess(X_val_texts, tokenizer)"
   ]
  },
  {
   "cell_type": "code",
   "execution_count": 7,
   "id": "012b6e28-e973-4c3c-916b-07c02c310024",
   "metadata": {},
   "outputs": [],
   "source": [
    "from tensorflow.keras.utils import to_categorical\n",
    "\n",
    "label_encoder = LabelEncoder()\n",
    "label_encoder.fit(df[\"type\"].unique())  # Fit on all unique MBTI labels in the dataset\n",
    "\n",
    "# Encode string labels into integers\n",
    "y_train = label_encoder.transform(y_train)  # Transform training labels\n",
    "y_val = label_encoder.transform(y_val)      # Transform validation labels\n",
    "# Convert to one-hot encoded format\n",
    "num_classes = len(label_encoder.classes_)  # Determine the number of unique MBTI types\n",
    "y_train = to_categorical(y_train, num_classes=num_classes)\n",
    "y_val = to_categorical(y_val, num_classes=num_classes)"
   ]
  },
  {
   "cell_type": "code",
   "execution_count": 8,
   "id": "e63717c9-b644-4d35-955e-68f3c544adf6",
   "metadata": {},
   "outputs": [
    {
     "name": "stdout",
     "output_type": "stream",
     "text": [
      "Class weights: {0: np.float64(2.911073825503356), 1: np.float64(0.7886363636363637), 2: np.float64(2.31951871657754), 3: np.float64(0.7886363636363637), 4: np.float64(12.392857142857142), 5: np.float64(10.84375), 6: np.float64(13.5546875), 7: np.float64(5.861486486486487), 8: np.float64(0.3669627749576988), 9: np.float64(0.2966826265389877), 10: np.float64(0.48301781737193766), 11: np.float64(0.4290306627101879), 12: np.float64(3.584710743801653), 13: np.float64(1.989678899082569), 14: np.float64(2.6940993788819876), 15: np.float64(1.6064814814814814)}\n"
     ]
    }
   ],
   "source": [
    "from sklearn.utils.class_weight import compute_class_weight\n",
    "import numpy as np\n",
    "\n",
    "# If `y_train` is one-hot encoded, convert it back to integer labels\n",
    "if len(y_train.shape) > 1 and y_train.shape[1] > 1:\n",
    "    y_train_flat = np.argmax(y_train, axis=1)  # Convert one-hot to integers\n",
    "else:\n",
    "    y_train_flat = y_train\n",
    "\n",
    "# Compute class weights\n",
    "class_weights = compute_class_weight(\n",
    "    class_weight=\"balanced\",\n",
    "    classes=np.unique(y_train_flat),\n",
    "    y=y_train_flat\n",
    ")\n",
    "\n",
    "# Convert to dictionary format required by Keras\n",
    "class_weight_dict = dict(enumerate(class_weights))\n",
    "\n",
    "print(\"Class weights:\", class_weight_dict)"
   ]
  },
  {
   "cell_type": "code",
   "execution_count": 9,
   "id": "52a06059-ff62-4cd6-8a12-cd34be8dff6f",
   "metadata": {},
   "outputs": [
    {
     "name": "stdout",
     "output_type": "stream",
     "text": [
      "Epoch 1/13\n"
     ]
    },
    {
     "name": "stderr",
     "output_type": "stream",
     "text": [
      "WARNING: All log messages before absl::InitializeLog() is called are written to STDERR\n",
      "I0000 00:00:1733260343.443903  836658 service.cc:148] XLA service 0x7fef052f16e0 initialized for platform CUDA (this does not guarantee that XLA will be used). Devices:\n",
      "I0000 00:00:1733260343.443933  836658 service.cc:156]   StreamExecutor device (0): NVIDIA A100-PCIE-40GB, Compute Capability 8.0\n",
      "2024-12-03 16:12:23.450112: I tensorflow/compiler/mlir/tensorflow/utils/dump_mlir_util.cc:268] disabling MLIR crash reproducer, set env var `MLIR_CRASH_REPRODUCER_DIRECTORY` to enable.\n",
      "I0000 00:00:1733260343.470552  836658 cuda_dnn.cc:529] Loaded cuDNN version 90300\n",
      "I0000 00:00:1733260343.568527  836658 device_compiler.h:188] Compiled cluster using XLA!  This line is logged at most once for the lifetime of the process.\n"
     ]
    },
    {
     "name": "stdout",
     "output_type": "stream",
     "text": [
      "434/434 [==============================] - 140s 249ms/step - loss: 2.8359 - accuracy: 0.0352 - val_loss: 2.7989 - val_accuracy: 0.0784\n",
      "Epoch 2/13\n",
      "434/434 [==============================] - 106s 244ms/step - loss: 2.6537 - accuracy: 0.1236 - val_loss: 2.2921 - val_accuracy: 0.3493\n",
      "Epoch 3/13\n",
      "434/434 [==============================] - 106s 243ms/step - loss: 1.9507 - accuracy: 0.4437 - val_loss: 1.9368 - val_accuracy: 0.4622\n",
      "Epoch 4/13\n",
      "434/434 [==============================] - 106s 244ms/step - loss: 1.5209 - accuracy: 0.5542 - val_loss: 1.6420 - val_accuracy: 0.5401\n",
      "Epoch 5/13\n",
      "434/434 [==============================] - 106s 243ms/step - loss: 1.2345 - accuracy: 0.6056 - val_loss: 1.5615 - val_accuracy: 0.5769\n",
      "Epoch 6/13\n",
      "434/434 [==============================] - 105s 243ms/step - loss: 0.9950 - accuracy: 0.6491 - val_loss: 1.5278 - val_accuracy: 0.5781\n",
      "Epoch 7/13\n",
      "434/434 [==============================] - 105s 243ms/step - loss: 0.8110 - accuracy: 0.6869 - val_loss: 1.4403 - val_accuracy: 0.5885\n",
      "Epoch 8/13\n",
      "434/434 [==============================] - 105s 243ms/step - loss: 0.6745 - accuracy: 0.7151 - val_loss: 1.6538 - val_accuracy: 0.5568\n",
      "Epoch 9/13\n",
      "434/434 [==============================] - 105s 243ms/step - loss: 0.5576 - accuracy: 0.7480 - val_loss: 1.4677 - val_accuracy: 0.6046\n",
      "Epoch 10/13\n",
      "434/434 [==============================] - 105s 243ms/step - loss: 0.4668 - accuracy: 0.7720 - val_loss: 1.5326 - val_accuracy: 0.5914\n",
      "Epoch 11/13\n",
      "434/434 [==============================] - 105s 242ms/step - loss: 0.3831 - accuracy: 0.8035 - val_loss: 1.5320 - val_accuracy: 0.6063\n",
      "Epoch 12/13\n",
      "434/434 [==============================] - 105s 243ms/step - loss: 0.3139 - accuracy: 0.8268 - val_loss: 1.5524 - val_accuracy: 0.6086\n",
      "Epoch 13/13\n",
      "434/434 [==============================] - 105s 242ms/step - loss: 0.2559 - accuracy: 0.8500 - val_loss: 1.6494 - val_accuracy: 0.6006\n"
     ]
    }
   ],
   "source": [
    "with tf.device('/GPU:0'):\n",
    "    history = model.fit(\n",
    "        [train_encodings[\"input_ids\"], train_encodings[\"attention_mask\"]],\n",
    "        y_train,  # Use one-hot encoded labels\n",
    "        validation_data=(\n",
    "            [val_encodings[\"input_ids\"], val_encodings[\"attention_mask\"]],\n",
    "            y_val\n",
    "        ),\n",
    "        batch_size=16,\n",
    "        epochs=13,\n",
    "        class_weight=class_weight_dict  # Pass the computed class weights\n",
    "    )"
   ]
  },
  {
   "cell_type": "code",
   "execution_count": 12,
   "id": "0c1fe942-d0b8-4cbf-bc66-bfad3ff98456",
   "metadata": {},
   "outputs": [
    {
     "data": {
      "image/png": "[encoded data removed]",
      "text/plain": [
       "<Figure size 640x480 with 1 Axes>"
      ]
     },
     "metadata": {},
     "output_type": "display_data"
    },
    {
     "data": {
      "image/png": "[encoded data removed]",
      "text/plain": [
       "<Figure size 640x480 with 1 Axes>"
      ]
     },
     "metadata": {},
     "output_type": "display_data"
    }
   ],
   "source": [
    "# Plot training & validation loss\n",
    "plt.plot(history.history['loss'], label='Training Loss')\n",
    "plt.plot(history.history['val_loss'], label='Validation Loss')\n",
    "plt.xlabel('Epochs')\n",
    "plt.ylabel('Loss')\n",
    "plt.legend()\n",
    "# plt.savefig('training_validation_loss_drop.png', dpi=300, bbox_inches='tight')  # Save as PNG with high resolution\n",
    "plt.show()\n",
    "plt.close()\n",
    "\n",
    "plt.plot(history.history['accuracy'], label='Training Accuracy')\n",
    "plt.plot(history.history['val_accuracy'], label='Validation Accuracy')\n",
    "plt.xlabel('Epochs')\n",
    "plt.ylabel('Accuracy')\n",
    "plt.legend()\n",
    "# plt.savefig('training_validation_acc_drop.png', dpi=300, bbox_inches='tight')  # Save as PNG with high resolution\n",
    "plt.show()\n",
    "plt.close()"
   ]
  },
  {
   "cell_type": "code",
   "execution_count": 14,
   "id": "9117fe81-5b4a-45ae-9e0c-78f8679ea15c",
   "metadata": {},
   "outputs": [
    {
     "name": "stdout",
     "output_type": "stream",
     "text": [
      "55/55 [==============================] - 8s 143ms/step - loss: 1.6494 - accuracy: 0.6006\n",
      "Validation Loss: 1.6494112014770508\n",
      "Validation Accuracy: 0.6005763411521912\n"
     ]
    }
   ],
   "source": [
    "# Evaluate on val data\n",
    "loss, accuracy = model.evaluate(\n",
    "    [val_encodings[\"input_ids\"], val_encodings[\"attention_mask\"]],\n",
    "    y_val\n",
    ")\n",
    "print(f\"Validation Loss: {loss}\")\n",
    "print(f\"Validation Accuracy: {accuracy}\")"
   ]
  },
  {
   "cell_type": "code",
   "execution_count": null,
   "id": "f545a7a2-8fb1-4b2c-b163-966b94a3cd72",
   "metadata": {},
   "outputs": [],
   "source": [
    "# insert text here\n",
    "sample_texts = [\" \"]\n",
    "ssample_texts = [clean_text(text) for text in sample_texts]  # or use map(clean_text, sample_texts)\n",
    "inputs = tokenizer(\n",
    "    sample_texts,\n",
    "    max_length=max_length,\n",
    "    padding=\"max_length\",\n",
    "    truncation=True,\n",
    "    return_tensors=\"tf\"\n",
    ")\n",
    "\n",
    "# Prediction results\n",
    "predictions = model.predict([inputs[\"input_ids\"], inputs[\"attention_mask\"]])\n",
    "predicted_classes = np.argmax(predictions, axis=1)\n",
    "decoded_labels = label_encoder.inverse_transform(predicted_classes)\n",
    "print(decoded_labels)"
   ]
  }
 ],
 "metadata": {
  "kernelspec": {
   "display_name": "QQY7741",
   "language": "python",
   "name": "qqy7741"
  },
  "language_info": {
   "codemirror_mode": {
    "name": "ipython",
    "version": 3
   },
   "file_extension": ".py",
   "mimetype": "text/x-python",
   "name": "python",
   "nbconvert_exporter": "python",
   "pygments_lexer": "ipython3",
   "version": "3.10.15"
  }
 },
 "nbformat": 4,
 "nbformat_minor": 5
}
